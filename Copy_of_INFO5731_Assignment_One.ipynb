{
  "nbformat": 4,
  "nbformat_minor": 0,
  "metadata": {
    "colab": {
      "name": "Copy of INFO5731_Assignment_One.ipynb",
      "provenance": [],
      "collapsed_sections": [],
      "toc_visible": true,
      "include_colab_link": true
    },
    "kernelspec": {
      "name": "python3",
      "display_name": "Python 3"
    }
  },
  "cells": [
    {
      "cell_type": "markdown",
      "metadata": {
        "id": "view-in-github",
        "colab_type": "text"
      },
      "source": [
        "<a href=\"https://colab.research.google.com/github/muraliRoyal1/venkatasiva_INFO5731_Fall2020/blob/master/Copy_of_INFO5731_Assignment_One.ipynb\" target=\"_parent\"><img src=\"https://colab.research.google.com/assets/colab-badge.svg\" alt=\"Open In Colab\"/></a>"
      ]
    },
    {
      "cell_type": "markdown",
      "metadata": {
        "id": "Ryk8D1Q4Wsrp",
        "colab_type": "text"
      },
      "source": [
        "# **INFO5731 Assignment One**"
      ]
    },
    {
      "cell_type": "markdown",
      "metadata": {
        "id": "90_NR8c5XGWc",
        "colab_type": "text"
      },
      "source": [
        "# Question 1\n",
        "\n",
        "(20 points). Write a Python program to generate 12 random numbers between 1 and 100. Sort the list of numbers in ascending order and print it out. Sort the list of numbers in descending order and print it out. Calculate the average for the group and print it out."
      ]
    },
    {
      "cell_type": "code",
      "metadata": {
        "id": "5QX6bJjGWXY9",
        "colab_type": "code",
        "colab": {
          "base_uri": "https://localhost:8080/",
          "height": 84
        },
        "outputId": "28bd978f-d287-4609-8e60-ee46d68f1994"
      },
      "source": [
        "# Your code here\n",
        "import numpy as np\n",
        "np.random.seed(54)\n",
        "random_list_12=list(np.random.randint(0,100,12))\n",
        "print(\"random_list_12\",random_list_12)\n",
        "sorted_list_asec=sorted(random_list_12)\n",
        "print(\"sorted_list_asec\",sorted_list_asec)\n",
        "sorted_list_desc=sorted(random_list_12,reverse=True)\n",
        "print(\"sorted_list_desc\",sorted_list_desc)\n",
        "#mean of the random_list_12\n",
        "print(\"mean of the group\",np.mean(random_list_12))"
      ],
      "execution_count": null,
      "outputs": [
        {
          "output_type": "stream",
          "text": [
            "random_list_12 [69, 2, 15, 23, 97, 64, 56, 7, 17, 9, 6, 68]\n",
            "sorted_list_asec [2, 6, 7, 9, 15, 17, 23, 56, 64, 68, 69, 97]\n",
            "sorted_list_desc [97, 69, 68, 64, 56, 23, 17, 15, 9, 7, 6, 2]\n",
            "mean of the group 36.083333333333336\n"
          ],
          "name": "stdout"
        }
      ]
    },
    {
      "cell_type": "markdown",
      "metadata": {
        "id": "1F_PZdH9Sh49",
        "colab_type": "text"
      },
      "source": [
        "# Question 2\n",
        "(25 points). Write a program that will do the following string formatting tasks:\n",
        "\n",
        "(1) Ask the user to enter two sentences.\n",
        "\n",
        "(2) Make each sentence into a list. Each element in the list should correspond to a word in the sentence. For example, if the sentence is \"Alas! Am I alive? This is my first python program\", the program should print out ['Alas, '!', 'Am', 'I', 'alive, '?', 'This', 'is', 'my', 'first', 'python', 'program'].\n",
        "(2) Make each sentence into a list. Each element in the list should correspond to a word in the sentence. For example, if the sentence is \"Alas! Am I alive? This is my first python program\", the program should print out ['Alas, '!', 'Am', 'I', 'alive, '?', 'This', 'is', 'my', 'first', 'python', 'program'].\n",
        "\n",
        "(3) Compare the two sentences. Print out a list of words that occur in both sentences.\n",
        "\n",
        "(4) Remove any punctuation from the sentence and print it back out. It should remove at least the following characters, but it can remove more: period(“.”), comma (“,”), semicolon (“;”), and colon (“:”)\n",
        "\n",
        "(5) Count the number of vowels in the sentences. Print out each vowel and the number of times it appears in the sentences, such as: a:2, e:1, i:0, etc"
      ]
    },
    {
      "cell_type": "code",
      "metadata": {
        "id": "Y0oOSlsOS0cq",
        "colab_type": "code",
        "colab": {
          "base_uri": "https://localhost:8080/",
          "height": 101
        },
        "outputId": "828c9f58-684c-4996-f9b0-ae234842de32"
      },
      "source": [
        "# Your code here\n",
        "print(\"enter first sentence\")\n",
        "sentence1=input()\n",
        "print(\"enter second sentence\")\n",
        "sentence2=input()\n",
        "\n",
        "import re\n",
        "regular_exp = r\"[0-9a-zA-Z_]+|\\$[\\d\\.]+|\\S+\"\n",
        "se1=re.findall(regular_exp,sentence1)\n",
        "se2=re.findall(regular_exp,sentence2)\n",
        "final_list=se1+se2\n",
        "print(final_list)"
      ],
      "execution_count": 2,
      "outputs": [
        {
          "output_type": "stream",
          "text": [
            "enter first sentence\n",
            "Alas! Am I alive?\n",
            "enter second sentence\n",
            "This is my first python program\n",
            "['Alas', '!', 'Am', 'I', 'alive', '?', 'This', 'is', 'my', 'first', 'python', 'program']\n"
          ],
          "name": "stdout"
        }
      ]
    },
    {
      "cell_type": "code",
      "metadata": {
        "id": "YwSEt_zSAQob",
        "colab_type": "code",
        "colab": {
          "base_uri": "https://localhost:8080/",
          "height": 34
        },
        "outputId": "166c8444-3ac6-426e-a1a3-7b29b8105c4f"
      },
      "source": [
        "words_in_both_sentences=list(set(se1).union(set(se2)))\n",
        "print(words_in_both_sentences)"
      ],
      "execution_count": 3,
      "outputs": [
        {
          "output_type": "stream",
          "text": [
            "['This', 'my', '?', 'python', 'is', '!', 'alive', 'program', 'first', 'Am', 'Alas', 'I']\n"
          ],
          "name": "stdout"
        }
      ]
    },
    {
      "cell_type": "code",
      "metadata": {
        "id": "vRq0Cv-jd2ei",
        "colab_type": "code",
        "colab": {}
      },
      "source": [
        "sentence1=sentence1.lower()\n",
        "sentence2=sentence2.lower()\n",
        "vowel_counts = {}\n",
        "\n",
        "for i in \"aeiou\":\n",
        "  count=sentence1.count(i)\n",
        "  count1=sentence2.count(i)\n",
        "  vowel_counts[i]=count+count1\n",
        "\n",
        "\n"
      ],
      "execution_count": 4,
      "outputs": []
    },
    {
      "cell_type": "code",
      "metadata": {
        "id": "GA6mffsFDuOZ",
        "colab_type": "code",
        "colab": {
          "base_uri": "https://localhost:8080/",
          "height": 34
        },
        "outputId": "fa6996e6-6b6f-4051-d861-bb3b748b54f5"
      },
      "source": [
        "vowel_counts"
      ],
      "execution_count": 5,
      "outputs": [
        {
          "output_type": "execute_result",
          "data": {
            "text/plain": [
              "{'a': 5, 'e': 1, 'i': 5, 'o': 2, 'u': 0}"
            ]
          },
          "metadata": {
            "tags": []
          },
          "execution_count": 5
        }
      ]
    },
    {
      "cell_type": "markdown",
      "metadata": {
        "id": "CmFoI4jDS9nx",
        "colab_type": "text"
      },
      "source": [
        "# Question 3 \n",
        "\n",
        "(15 points). The formula that describes the volume V of a sphere with radius r is the following:\n",
        "\n",
        "$ V=\\frac{4}{3}\\ast\\ \\pi\\ast\\ r^3 $\n",
        "\n",
        "Write a program to calculate the value of V when r is in the range of 1–10. Output the result in the following format:\n",
        "\n",
        "\tr\tV\n",
        "\t1\t…\n",
        "\t2\t…\n",
        "\t3\t…\n"
      ]
    },
    {
      "cell_type": "code",
      "metadata": {
        "id": "pEyqeioAT95b",
        "colab_type": "code",
        "colab": {
          "base_uri": "https://localhost:8080/",
          "height": 202
        },
        "outputId": "2a39e8d1-41a0-40ed-9ae0-ee7eeed530f4"
      },
      "source": [
        "# Your code here\n",
        "print(\"r\\t\\tV\")\n",
        "for i in range(1,11):\n",
        "  V=(4/3)*np.math.pi*(i**3)\n",
        "  print(i,\" \",V)"
      ],
      "execution_count": null,
      "outputs": [
        {
          "output_type": "stream",
          "text": [
            "r\t\tV\n",
            "1   4.1887902047863905\n",
            "2   33.510321638291124\n",
            "3   113.09733552923254\n",
            "4   268.082573106329\n",
            "5   523.5987755982989\n",
            "6   904.7786842338603\n",
            "7   1436.7550402417319\n",
            "8   2144.660584850632\n",
            "9   3053.6280592892786\n",
            "10   4188.790204786391\n"
          ],
          "name": "stdout"
        }
      ]
    },
    {
      "cell_type": "markdown",
      "metadata": {
        "id": "z3tBE7E-Xn5X",
        "colab_type": "text"
      },
      "source": [
        "# Question 4\n",
        "\n",
        "(40 points). In the field of Data Science, data is often formatted as a comma-delimited (CSV) file, where each line in a file corresponds to a field's value. Refer to Chapter 9 (p. 106) for more information on comma-delimited files. To answer this question, you will need to download the file [Assignment1_denton_housing.csv](https://github.com/unt-iialab/INFO5731_FALL2020/blob/master/Assignments/Assignment1_denton_housing.csv) included with this assignment. The [file Assignment1_denton_housing.csv](https://github.com/unt-iialab/INFO5731_FALL2020/blob/master/Assignments/Assignment1_denton_housing.csv) contains statistics about housing in the city of Denton from 2008 to 2014. Write a program to implement the following questions.\n",
        "\n",
        "(1) (10 pts) Calculate the difference in the number of Occupied Housing Units from year to year and print it. The difference must be calculated for the consecutive years such as 2008-2009, 2009-2010 etc. Finally, print the values in the ascending order.\n",
        "\n",
        "(2) (10 pts) For all the years, calculate the percentage of housing units which are vacant an occupied. Print the results in the following format:\n",
        "\n",
        "Year Vacant Housing Units Occupied Housing Units\n",
        "\n",
        "    2008  30%   70%                          \n",
        "\t2009 ----- -----\n",
        "\t2010 ----- -----\n",
        "    2011 ----- -----\n",
        "\t2012 ----- -----\n",
        "    2013 ----- -----\n",
        "\t2014 ----- -----\n",
        "  \n",
        "  \n",
        "\n",
        "(3) (10 pts) Calculate and print the valued and years in which the highest number of housing units were vacant and occupied. Print the results in the following format:  \n",
        "\n",
        "                              Year\tValue\n",
        "\tVacant Housing Units\t  -----   -----\n",
        "\tOccupied Housing Units\t-----   -----\n",
        "\n",
        "(4) (10 pts) Calculate the harmonic mean of the total housing units and print it out. You can find the information about harmonic mean here: https://ncalculators.com/statistics/harmonic-mean-calculator.htm"
      ]
    },
    {
      "cell_type": "code",
      "metadata": {
        "id": "lqGYuHBhcsRH",
        "colab_type": "code",
        "colab": {}
      },
      "source": [
        "# Your code here\n",
        "import pandas as pd\n",
        "df=pd.read_csv(\"/content/sample_data/Assignment1_denton_housing.csv\",index_col=\"year\")\n",
        "df.sort_index(axis=0,ascending=True,inplace=True)\n",
        "df2=df[df.title_field==\"Occupied Housing Units\"].sort_index(axis=0,ascending=True)\n",
        "df2=df2.reset_index()"
      ],
      "execution_count": null,
      "outputs": []
    },
    {
      "cell_type": "code",
      "metadata": {
        "id": "lfLX54xUk0X0",
        "colab_type": "code",
        "colab": {
          "base_uri": "https://localhost:8080/",
          "height": 134
        },
        "outputId": "90245d8d-b285-4ee9-f814-3ab6205d3e69"
      },
      "source": [
        "arr1=df2[[\"year\",\"value\"]].values\n",
        "l1=[]\n",
        "for i in range(len(arr1)-1):\n",
        "  l1.append(arr1[i+1][1]-arr1[i][1])\n",
        "l1\n",
        "print(\"years\\t\\tdifference\")\n",
        "for i in range(2008,2014):\n",
        "  print(i,\"-\",i+1,\"   \",l1[i-2008])"
      ],
      "execution_count": null,
      "outputs": [
        {
          "output_type": "stream",
          "text": [
            "years\t\tdifference\n",
            "2008 - 2009     -795\n",
            "2009 - 2010     5091\n",
            "2010 - 2011     -303\n",
            "2011 - 2012     1404\n",
            "2012 - 2013     1565\n",
            "2013 - 2014     2622\n"
          ],
          "name": "stdout"
        }
      ]
    },
    {
      "cell_type": "code",
      "metadata": {
        "id": "kMV04OMmoVGp",
        "colab_type": "code",
        "colab": {}
      },
      "source": [
        "#For all the years, calculate the percentage of housing units which are vacant an occupied. Print the results in the following format: \n",
        "#Year Vacant Housing Units Occupied Housing Units"
      ],
      "execution_count": null,
      "outputs": []
    },
    {
      "cell_type": "code",
      "metadata": {
        "id": "bItoehgwsGJ7",
        "colab_type": "code",
        "colab": {}
      },
      "source": [
        ""
      ],
      "execution_count": null,
      "outputs": []
    },
    {
      "cell_type": "code",
      "metadata": {
        "id": "0jTD5H0ztbCY",
        "colab_type": "code",
        "colab": {}
      },
      "source": [
        "df.reset_index(inplace=True)\n",
        "occupied_list=[]\n",
        "vacant_list=[]\n",
        "for i in range(2008,2015):\n",
        "  occupied_list.append((df[(df[\"year\"]==i) & (df[\"title_field\"]==\"Occupied Housing Units\")].value.values)/(df[(df[\"year\"]==i) & (df[\"title_field\"]==\"Total Housing Units\")].value.values))\n",
        "  vacant_list.append((df[(df[\"year\"]==i) & (df[\"title_field\"]==\"Vacant Housing Units\")].value.values)/(df[(df[\"year\"]==i) & (df[\"title_field\"]==\"Total Housing Units\")].value.values))\n"
      ],
      "execution_count": null,
      "outputs": []
    },
    {
      "cell_type": "code",
      "metadata": {
        "id": "VLbcLMHxwn1x",
        "colab_type": "code",
        "colab": {
          "base_uri": "https://localhost:8080/",
          "height": 151
        },
        "outputId": "98102e37-967f-4621-92d2-4a7c4e58205c"
      },
      "source": [
        "print(\"Year \\t Vacant\\t Occupied\")\n",
        "for i in range(2008,2015):\n",
        "  print(i,\"\\t\",np.round(vacant_list[i-2008][0]*100,2),\"\\t\",np.round(occupied_list[i-2008][0]*100,2))"
      ],
      "execution_count": null,
      "outputs": [
        {
          "output_type": "stream",
          "text": [
            "Year \t Vacant\t Occupied\n",
            "2008 \t 10.88 \t 89.12\n",
            "2009 \t 9.07 \t 90.93\n",
            "2010 \t 8.14 \t 91.86\n",
            "2011 \t 9.38 \t 90.62\n",
            "2012 \t 6.68 \t 93.32\n",
            "2013 \t 8.8 \t 91.2\n",
            "2014 \t 5.73 \t 94.27\n"
          ],
          "name": "stdout"
        }
      ]
    },
    {
      "cell_type": "code",
      "metadata": {
        "id": "V33CdRpjxvdO",
        "colab_type": "code",
        "colab": {
          "base_uri": "https://localhost:8080/",
          "height": 67
        },
        "outputId": "2a179a29-5d17-4905-a662-661e11c8ecac"
      },
      "source": [
        "xy=[]\n",
        "yz=[]\n",
        "\n",
        "for i in range(2008,2015):\n",
        "  xy.append(occupied_list[i-2008][0])\n",
        "  yz.append(vacant_list[i-2008][0])\n",
        "\n",
        "print(\"\\t\\t\\t year\\t value\")\n",
        "\n",
        "for i in enumerate(occupied_list,start=2008):\n",
        "  if(i[1][0]==max(xy)):\n",
        "    #print(i[0])\n",
        "    print(\"Occupied Housing Units \\t\",i[0],\"\\t\",(df[(df.year==i[0])&(df.title_field==\"Occupied Housing Units\")].value.values)[0])\n",
        "    break\n",
        "for i in enumerate(vacant_list,start=2008):\n",
        "  if(i[1][0]==max(yz)):\n",
        "    #print(i[0])\n",
        "    print(\"Vacant Housing Units \\t\",i[0],\"\\t\",(df[(df.year==i[0])&(df.title_field==\"Vacant Housing Units\")].value.values)[0])\n",
        "    break\n",
        "  \n"
      ],
      "execution_count": null,
      "outputs": [
        {
          "output_type": "stream",
          "text": [
            "\t\t\t year\t value\n",
            "Occupied Housing Units \t 2014 \t 46295\n",
            "Vacant Housing Units \t 2008 \t 4483\n"
          ],
          "name": "stdout"
        }
      ]
    },
    {
      "cell_type": "code",
      "metadata": {
        "id": "kt5R21Ae0Nn6",
        "colab_type": "code",
        "colab": {}
      },
      "source": [
        "#Calculate the harmonic mean of the total housing units and print it out. You can find the information about harmonic mean here"
      ],
      "execution_count": null,
      "outputs": []
    },
    {
      "cell_type": "code",
      "metadata": {
        "id": "GV2hZo579swD",
        "colab_type": "code",
        "colab": {
          "base_uri": "https://localhost:8080/",
          "height": 34
        },
        "outputId": "00b04ffd-67bd-4c8c-d229-13371f01a356"
      },
      "source": [
        "from scipy import stats\n",
        "\n",
        "df[df.title_field==\"Total Housing Units\"].value.values"
      ],
      "execution_count": null,
      "outputs": [
        {
          "output_type": "execute_result",
          "data": {
            "text/plain": [
              "array([41194, 39499, 44642, 44917, 45121, 47888, 49109])"
            ]
          },
          "metadata": {
            "tags": []
          },
          "execution_count": 203
        }
      ]
    },
    {
      "cell_type": "code",
      "metadata": {
        "id": "IlfliUZK90kF",
        "colab_type": "code",
        "colab": {
          "base_uri": "https://localhost:8080/",
          "height": 34
        },
        "outputId": "d00b378b-3c1e-4c2d-9481-10713af59d61"
      },
      "source": [
        "stats.hmean(df[df.title_field==\"Total Housing Units\"].value.values)"
      ],
      "execution_count": null,
      "outputs": [
        {
          "output_type": "execute_result",
          "data": {
            "text/plain": [
              "44398.28543969185"
            ]
          },
          "metadata": {
            "tags": []
          },
          "execution_count": 204
        }
      ]
    },
    {
      "cell_type": "code",
      "metadata": {
        "id": "E-ElqjJ9-Y1I",
        "colab_type": "code",
        "colab": {}
      },
      "source": [
        ""
      ],
      "execution_count": null,
      "outputs": []
    }
  ]
}