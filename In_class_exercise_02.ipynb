{
  "nbformat": 4,
  "nbformat_minor": 0,
  "metadata": {
    "colab": {
      "name": "In_class_exercise_02.ipynb",
      "provenance": [],
      "collapsed_sections": [],
      "include_colab_link": true
    },
    "kernelspec": {
      "display_name": "Python 3",
      "language": "python",
      "name": "python3"
    },
    "language_info": {
      "codemirror_mode": {
        "name": "ipython",
        "version": 3
      },
      "file_extension": ".py",
      "mimetype": "text/x-python",
      "name": "python",
      "nbconvert_exporter": "python",
      "pygments_lexer": "ipython3",
      "version": "3.7.4"
    }
  },
  "cells": [
    {
      "cell_type": "markdown",
      "metadata": {
        "id": "view-in-github",
        "colab_type": "text"
      },
      "source": [
        "<a href=\"https://colab.research.google.com/github/muraliRoyal1/venkatasiva_INFO5731_Fall2020/blob/master/In_class_exercise_02.ipynb\" target=\"_parent\"><img src=\"https://colab.research.google.com/assets/colab-badge.svg\" alt=\"Open In Colab\"/></a>"
      ]
    },
    {
      "cell_type": "markdown",
      "metadata": {
        "colab_type": "text",
        "id": "oo5bsEh2eeWi"
      },
      "source": [
        "# **The second In-class-exercise (9/9/2020, 20 points in total)**\n"
      ]
    },
    {
      "cell_type": "markdown",
      "metadata": {
        "colab_type": "text",
        "id": "2sPQ58dIeqgp"
      },
      "source": [
        "(1) Write a Python program to find the duplicate elements in a given array of integers. Return -1 If there are no such elements. (4 points)"
      ]
    },
    {
      "cell_type": "code",
      "metadata": {
        "id": "NsT7w2gYyhaG",
        "colab_type": "code",
        "colab": {
          "base_uri": "https://localhost:8080/",
          "height": 34
        },
        "outputId": "3d5b7771-824c-4c9d-967f-c2da815b0fc0"
      },
      "source": [
        "test_list =[ 3,3, 5, 6, 1,1] \n",
        "x=len(test_list)\n",
        "\n",
        "set_y=set(test_list)\n",
        "\n",
        "#print(len(set_y))\n",
        "\n",
        "if (x!=len(set_y)):\n",
        "  print(list(set_y))\n",
        "else:\n",
        "  print(-1)"
      ],
      "execution_count": null,
      "outputs": [
        {
          "output_type": "stream",
          "text": [
            "[1, 3, 5, 6]\n"
          ],
          "name": "stdout"
        }
      ]
    },
    {
      "cell_type": "markdown",
      "metadata": {
        "colab_type": "text",
        "id": "YYrH6n6IhZoQ"
      },
      "source": [
        "(2) Write a Python program to select all the Sundays of a specified year. (4 points)\n",
        "\n"
      ]
    },
    {
      "cell_type": "code",
      "metadata": {
        "colab_type": "code",
        "id": "OSfPLd23eLpX",
        "colab": {
          "base_uri": "https://localhost:8080/",
          "height": 890
        },
        "outputId": "69fb945d-fb95-45d7-faab-2fc4fc69aaf5"
      },
      "source": [
        "# write your answer here\n",
        "from datetime import date, timedelta\n",
        "\n",
        "def all_sundays(year):\n",
        "# January 1st of the given year\n",
        "       dt = date(year, 1, 1)\n",
        "# First Sunday of the given year       \n",
        "       dt += timedelta(days = 6 - dt.weekday())  \n",
        "       while dt.year == year:\n",
        "          yield dt\n",
        "          dt += timedelta(days = 7)\n",
        "          \n",
        "for s in all_sundays(2020):\n",
        "   print(s)\n",
        "   \n",
        "\n"
      ],
      "execution_count": null,
      "outputs": [
        {
          "output_type": "stream",
          "text": [
            "2020-01-05\n",
            "2020-01-12\n",
            "2020-01-19\n",
            "2020-01-26\n",
            "2020-02-02\n",
            "2020-02-09\n",
            "2020-02-16\n",
            "2020-02-23\n",
            "2020-03-01\n",
            "2020-03-08\n",
            "2020-03-15\n",
            "2020-03-22\n",
            "2020-03-29\n",
            "2020-04-05\n",
            "2020-04-12\n",
            "2020-04-19\n",
            "2020-04-26\n",
            "2020-05-03\n",
            "2020-05-10\n",
            "2020-05-17\n",
            "2020-05-24\n",
            "2020-05-31\n",
            "2020-06-07\n",
            "2020-06-14\n",
            "2020-06-21\n",
            "2020-06-28\n",
            "2020-07-05\n",
            "2020-07-12\n",
            "2020-07-19\n",
            "2020-07-26\n",
            "2020-08-02\n",
            "2020-08-09\n",
            "2020-08-16\n",
            "2020-08-23\n",
            "2020-08-30\n",
            "2020-09-06\n",
            "2020-09-13\n",
            "2020-09-20\n",
            "2020-09-27\n",
            "2020-10-04\n",
            "2020-10-11\n",
            "2020-10-18\n",
            "2020-10-25\n",
            "2020-11-01\n",
            "2020-11-08\n",
            "2020-11-15\n",
            "2020-11-22\n",
            "2020-11-29\n",
            "2020-12-06\n",
            "2020-12-13\n",
            "2020-12-20\n",
            "2020-12-27\n"
          ],
          "name": "stdout"
        }
      ]
    },
    {
      "cell_type": "markdown",
      "metadata": {
        "colab_type": "text",
        "id": "UIpziZ6Sjie-"
      },
      "source": [
        "(3) Python files reading and writing. Download the “[exercise_02_data _collection.zip](https://github.com/unt-iialab/INFO5731_FALL2020/blob/master/In_class_exercise/exercise_02_data_collection.zip)” to your local and un-zip it.\n",
        "\n",
        "*   Write a program to read all the txt files and save the sentences in all the files into one csv file with two columns, the first column is sentence id (txt file name+sentence line number), the second column is the sentence text content. (4 points)\n",
        "*   Remove all the punctuations from the sentences, save the processed sentences into a new column in the same csv file. (4 points)\n",
        "*   Ask the user to enter a word, return all the sentences that include this word, three kinds of information should be returned: sentence id, sentence text content, the count that user input word appear in the sentence. (4 points)\n",
        "\n"
      ]
    },
    {
      "cell_type": "code",
      "metadata": {
        "id": "5MbqU5zSLpjd",
        "colab_type": "code",
        "colab": {}
      },
      "source": [
        "import os\n",
        "list_dir=list(os.listdir('/content/sample_data/myfolder'))\n",
        "\n",
        "import glob\n",
        "path =r'/content/sample_data/myfolder'\n",
        "filenames = glob.glob(path + \"/*.txt\")"
      ],
      "execution_count": 103,
      "outputs": []
    },
    {
      "cell_type": "code",
      "metadata": {
        "id": "SfeHkH4xLwZn",
        "colab_type": "code",
        "colab": {
          "base_uri": "https://localhost:8080/",
          "height": 486
        },
        "outputId": "55c8d5bd-9b3b-4272-be1f-0138a9441538"
      },
      "source": [
        "import pandas as pd\n",
        "dfs=[]\n",
        "count=0\n",
        "for filename in filenames:\n",
        "  dfs.append(pd.read_csv(filename,delimiter=\"\\n\",header=None))\n",
        "  dfs[count]=dfs[count].reset_index()\n",
        "  dfs[count][\"sentence id\"]=filename.replace(\"/content/sample_data/myfolder/\",\"\")\n",
        "  count+=1\n",
        "#for i in range(len(dfs)):\n",
        "  \n",
        "  \n",
        "bigdf=pd.concat(dfs, ignore_index=True)\n",
        "for i in range(len(bigdf)):\n",
        "  bigdf[\"sentence id\"][i]=bigdf[\"sentence id\"][i]+\" \"+str(bigdf[\"index\"][i])\n",
        "bigdf=bigdf[[\"sentence id\",0]].rename(columns={0:\"sentence\"})\n",
        "bigdf"
      ],
      "execution_count": 104,
      "outputs": [
        {
          "output_type": "stream",
          "text": [
            "/usr/local/lib/python3.6/dist-packages/ipykernel_launcher.py:14: SettingWithCopyWarning: \n",
            "A value is trying to be set on a copy of a slice from a DataFrame\n",
            "\n",
            "See the caveats in the documentation: https://pandas.pydata.org/pandas-docs/stable/user_guide/indexing.html#returning-a-view-versus-a-copy\n",
            "  \n"
          ],
          "name": "stderr"
        },
        {
          "output_type": "execute_result",
          "data": {
            "text/html": [
              "<div>\n",
              "<style scoped>\n",
              "    .dataframe tbody tr th:only-of-type {\n",
              "        vertical-align: middle;\n",
              "    }\n",
              "\n",
              "    .dataframe tbody tr th {\n",
              "        vertical-align: top;\n",
              "    }\n",
              "\n",
              "    .dataframe thead th {\n",
              "        text-align: right;\n",
              "    }\n",
              "</style>\n",
              "<table border=\"1\" class=\"dataframe\">\n",
              "  <thead>\n",
              "    <tr style=\"text-align: right;\">\n",
              "      <th></th>\n",
              "      <th>sentence id</th>\n",
              "      <th>sentence</th>\n",
              "    </tr>\n",
              "  </thead>\n",
              "  <tbody>\n",
              "    <tr>\n",
              "      <th>0</th>\n",
              "      <td>ARTHROTEC.10.txt 0</td>\n",
              "      <td>Hunger pangs.</td>\n",
              "    </tr>\n",
              "    <tr>\n",
              "      <th>1</th>\n",
              "      <td>ARTHROTEC.10.txt 1</td>\n",
              "      <td>Brilliant, I have a new lease of life, i walk ...</td>\n",
              "    </tr>\n",
              "    <tr>\n",
              "      <th>2</th>\n",
              "      <td>ARTHROTEC.91.txt 0</td>\n",
              "      <td>No side effects, but I always add acidophilous...</td>\n",
              "    </tr>\n",
              "    <tr>\n",
              "      <th>3</th>\n",
              "      <td>ARTHROTEC.91.txt 1</td>\n",
              "      <td>I am only taking 75 mg a day and it is wonderf...</td>\n",
              "    </tr>\n",
              "    <tr>\n",
              "      <th>4</th>\n",
              "      <td>ARTHROTEC.54.txt 0</td>\n",
              "      <td>I have not experienced any of the side effects.</td>\n",
              "    </tr>\n",
              "    <tr>\n",
              "      <th>...</th>\n",
              "      <td>...</td>\n",
              "      <td>...</td>\n",
              "    </tr>\n",
              "    <tr>\n",
              "      <th>528</th>\n",
              "      <td>ARTHROTEC.30.txt 12</td>\n",
              "      <td>On top of that, I am now having to have a proc...</td>\n",
              "    </tr>\n",
              "    <tr>\n",
              "      <th>529</th>\n",
              "      <td>ARTHROTEC.30.txt 13</td>\n",
              "      <td>I truly hope that there are no long term effec...</td>\n",
              "    </tr>\n",
              "    <tr>\n",
              "      <th>530</th>\n",
              "      <td>ARTHROTEC.30.txt 14</td>\n",
              "      <td>I have not taken Arthrotec in almost a week, y...</td>\n",
              "    </tr>\n",
              "    <tr>\n",
              "      <th>531</th>\n",
              "      <td>ARTHROTEC.30.txt 15</td>\n",
              "      <td>I do not look forward to the extra pains I wil...</td>\n",
              "    </tr>\n",
              "    <tr>\n",
              "      <th>532</th>\n",
              "      <td>ARTHROTEC.30.txt 16</td>\n",
              "      <td>I feel that I have become dependent on this me...</td>\n",
              "    </tr>\n",
              "  </tbody>\n",
              "</table>\n",
              "<p>533 rows × 2 columns</p>\n",
              "</div>"
            ],
            "text/plain": [
              "             sentence id                                           sentence\n",
              "0     ARTHROTEC.10.txt 0                                      Hunger pangs.\n",
              "1     ARTHROTEC.10.txt 1  Brilliant, I have a new lease of life, i walk ...\n",
              "2     ARTHROTEC.91.txt 0  No side effects, but I always add acidophilous...\n",
              "3     ARTHROTEC.91.txt 1  I am only taking 75 mg a day and it is wonderf...\n",
              "4     ARTHROTEC.54.txt 0    I have not experienced any of the side effects.\n",
              "..                   ...                                                ...\n",
              "528  ARTHROTEC.30.txt 12  On top of that, I am now having to have a proc...\n",
              "529  ARTHROTEC.30.txt 13  I truly hope that there are no long term effec...\n",
              "530  ARTHROTEC.30.txt 14  I have not taken Arthrotec in almost a week, y...\n",
              "531  ARTHROTEC.30.txt 15  I do not look forward to the extra pains I wil...\n",
              "532  ARTHROTEC.30.txt 16  I feel that I have become dependent on this me...\n",
              "\n",
              "[533 rows x 2 columns]"
            ]
          },
          "metadata": {
            "tags": []
          },
          "execution_count": 104
        }
      ]
    },
    {
      "cell_type": "code",
      "metadata": {
        "id": "wRWCPxYQL27z",
        "colab_type": "code",
        "colab": {
          "base_uri": "https://localhost:8080/",
          "height": 570
        },
        "outputId": "6f431f3c-304b-4088-b9d0-6983098c46d0"
      },
      "source": [
        "bigdf[\"new sentence\"]=0\n",
        "import re \n",
        "for i in range(len(bigdf)):\n",
        "  bigdf[\"new sentence\"][i]=re.sub(r'[^\\w\\s]', '', bigdf.sentence[i]) \n",
        "\n",
        "bigdf"
      ],
      "execution_count": 106,
      "outputs": [
        {
          "output_type": "stream",
          "text": [
            "/usr/local/lib/python3.6/dist-packages/ipykernel_launcher.py:4: SettingWithCopyWarning: \n",
            "A value is trying to be set on a copy of a slice from a DataFrame\n",
            "\n",
            "See the caveats in the documentation: https://pandas.pydata.org/pandas-docs/stable/user_guide/indexing.html#returning-a-view-versus-a-copy\n",
            "  after removing the cwd from sys.path.\n",
            "/usr/local/lib/python3.6/dist-packages/pandas/core/indexing.py:671: SettingWithCopyWarning: \n",
            "A value is trying to be set on a copy of a slice from a DataFrame\n",
            "\n",
            "See the caveats in the documentation: https://pandas.pydata.org/pandas-docs/stable/user_guide/indexing.html#returning-a-view-versus-a-copy\n",
            "  self._setitem_with_indexer(indexer, value)\n"
          ],
          "name": "stderr"
        },
        {
          "output_type": "execute_result",
          "data": {
            "text/html": [
              "<div>\n",
              "<style scoped>\n",
              "    .dataframe tbody tr th:only-of-type {\n",
              "        vertical-align: middle;\n",
              "    }\n",
              "\n",
              "    .dataframe tbody tr th {\n",
              "        vertical-align: top;\n",
              "    }\n",
              "\n",
              "    .dataframe thead th {\n",
              "        text-align: right;\n",
              "    }\n",
              "</style>\n",
              "<table border=\"1\" class=\"dataframe\">\n",
              "  <thead>\n",
              "    <tr style=\"text-align: right;\">\n",
              "      <th></th>\n",
              "      <th>sentence id</th>\n",
              "      <th>sentence</th>\n",
              "      <th>new sentence</th>\n",
              "    </tr>\n",
              "  </thead>\n",
              "  <tbody>\n",
              "    <tr>\n",
              "      <th>0</th>\n",
              "      <td>ARTHROTEC.10.txt 0</td>\n",
              "      <td>Hunger pangs.</td>\n",
              "      <td>Hunger pangs</td>\n",
              "    </tr>\n",
              "    <tr>\n",
              "      <th>1</th>\n",
              "      <td>ARTHROTEC.10.txt 1</td>\n",
              "      <td>Brilliant, I have a new lease of life, i walk ...</td>\n",
              "      <td>Brilliant I have a new lease of life i walk up...</td>\n",
              "    </tr>\n",
              "    <tr>\n",
              "      <th>2</th>\n",
              "      <td>ARTHROTEC.91.txt 0</td>\n",
              "      <td>No side effects, but I always add acidophilous...</td>\n",
              "      <td>No side effects but I always add acidophilous ...</td>\n",
              "    </tr>\n",
              "    <tr>\n",
              "      <th>3</th>\n",
              "      <td>ARTHROTEC.91.txt 1</td>\n",
              "      <td>I am only taking 75 mg a day and it is wonderf...</td>\n",
              "      <td>I am only taking 75 mg a day and it is wonderf...</td>\n",
              "    </tr>\n",
              "    <tr>\n",
              "      <th>4</th>\n",
              "      <td>ARTHROTEC.54.txt 0</td>\n",
              "      <td>I have not experienced any of the side effects.</td>\n",
              "      <td>I have not experienced any of the side effects</td>\n",
              "    </tr>\n",
              "    <tr>\n",
              "      <th>...</th>\n",
              "      <td>...</td>\n",
              "      <td>...</td>\n",
              "      <td>...</td>\n",
              "    </tr>\n",
              "    <tr>\n",
              "      <th>528</th>\n",
              "      <td>ARTHROTEC.30.txt 12</td>\n",
              "      <td>On top of that, I am now having to have a proc...</td>\n",
              "      <td>On top of that I am now having to have a proce...</td>\n",
              "    </tr>\n",
              "    <tr>\n",
              "      <th>529</th>\n",
              "      <td>ARTHROTEC.30.txt 13</td>\n",
              "      <td>I truly hope that there are no long term effec...</td>\n",
              "      <td>I truly hope that there are no long term effec...</td>\n",
              "    </tr>\n",
              "    <tr>\n",
              "      <th>530</th>\n",
              "      <td>ARTHROTEC.30.txt 14</td>\n",
              "      <td>I have not taken Arthrotec in almost a week, y...</td>\n",
              "      <td>I have not taken Arthrotec in almost a week ye...</td>\n",
              "    </tr>\n",
              "    <tr>\n",
              "      <th>531</th>\n",
              "      <td>ARTHROTEC.30.txt 15</td>\n",
              "      <td>I do not look forward to the extra pains I wil...</td>\n",
              "      <td>I do not look forward to the extra pains I wil...</td>\n",
              "    </tr>\n",
              "    <tr>\n",
              "      <th>532</th>\n",
              "      <td>ARTHROTEC.30.txt 16</td>\n",
              "      <td>I feel that I have become dependent on this me...</td>\n",
              "      <td>I feel that I have become dependent on this me...</td>\n",
              "    </tr>\n",
              "  </tbody>\n",
              "</table>\n",
              "<p>533 rows × 3 columns</p>\n",
              "</div>"
            ],
            "text/plain": [
              "             sentence id  ...                                       new sentence\n",
              "0     ARTHROTEC.10.txt 0  ...                                       Hunger pangs\n",
              "1     ARTHROTEC.10.txt 1  ...  Brilliant I have a new lease of life i walk up...\n",
              "2     ARTHROTEC.91.txt 0  ...  No side effects but I always add acidophilous ...\n",
              "3     ARTHROTEC.91.txt 1  ...  I am only taking 75 mg a day and it is wonderf...\n",
              "4     ARTHROTEC.54.txt 0  ...     I have not experienced any of the side effects\n",
              "..                   ...  ...                                                ...\n",
              "528  ARTHROTEC.30.txt 12  ...  On top of that I am now having to have a proce...\n",
              "529  ARTHROTEC.30.txt 13  ...  I truly hope that there are no long term effec...\n",
              "530  ARTHROTEC.30.txt 14  ...  I have not taken Arthrotec in almost a week ye...\n",
              "531  ARTHROTEC.30.txt 15  ...  I do not look forward to the extra pains I wil...\n",
              "532  ARTHROTEC.30.txt 16  ...  I feel that I have become dependent on this me...\n",
              "\n",
              "[533 rows x 3 columns]"
            ]
          },
          "metadata": {
            "tags": []
          },
          "execution_count": 106
        }
      ]
    },
    {
      "cell_type": "code",
      "metadata": {
        "id": "33QFpPtsM5J9",
        "colab_type": "code",
        "colab": {
          "base_uri": "https://localhost:8080/",
          "height": 435
        },
        "outputId": "2e2096c8-111e-4e40-9be6-52bc0a225e47"
      },
      "source": [
        "sub =input()\n",
        "print(\"the search word is \",sub)\n",
        "bigdf[bigdf[\"new sentence\"].str.contains(sub)]"
      ],
      "execution_count": 110,
      "outputs": [
        {
          "output_type": "stream",
          "text": [
            "he\n",
            "the search word is  he\n"
          ],
          "name": "stdout"
        },
        {
          "output_type": "execute_result",
          "data": {
            "text/html": [
              "<div>\n",
              "<style scoped>\n",
              "    .dataframe tbody tr th:only-of-type {\n",
              "        vertical-align: middle;\n",
              "    }\n",
              "\n",
              "    .dataframe tbody tr th {\n",
              "        vertical-align: top;\n",
              "    }\n",
              "\n",
              "    .dataframe thead th {\n",
              "        text-align: right;\n",
              "    }\n",
              "</style>\n",
              "<table border=\"1\" class=\"dataframe\">\n",
              "  <thead>\n",
              "    <tr style=\"text-align: right;\">\n",
              "      <th></th>\n",
              "      <th>sentence id</th>\n",
              "      <th>sentence</th>\n",
              "      <th>new sentence</th>\n",
              "    </tr>\n",
              "  </thead>\n",
              "  <tbody>\n",
              "    <tr>\n",
              "      <th>1</th>\n",
              "      <td>ARTHROTEC.10.txt 1</td>\n",
              "      <td>Brilliant, I have a new lease of life, i walk ...</td>\n",
              "      <td>Brilliant I have a new lease of life i walk up...</td>\n",
              "    </tr>\n",
              "    <tr>\n",
              "      <th>3</th>\n",
              "      <td>ARTHROTEC.91.txt 1</td>\n",
              "      <td>I am only taking 75 mg a day and it is wonderf...</td>\n",
              "      <td>I am only taking 75 mg a day and it is wonderf...</td>\n",
              "    </tr>\n",
              "    <tr>\n",
              "      <th>4</th>\n",
              "      <td>ARTHROTEC.54.txt 0</td>\n",
              "      <td>I have not experienced any of the side effects.</td>\n",
              "      <td>I have not experienced any of the side effects</td>\n",
              "    </tr>\n",
              "    <tr>\n",
              "      <th>5</th>\n",
              "      <td>ARTHROTEC.54.txt 1</td>\n",
              "      <td>Arthrotec helps me get through the day.</td>\n",
              "      <td>Arthrotec helps me get through the day</td>\n",
              "    </tr>\n",
              "    <tr>\n",
              "      <th>6</th>\n",
              "      <td>ARTHROTEC.21.txt 0</td>\n",
              "      <td>Didn't have much pain relief, and within a few...</td>\n",
              "      <td>Didnt have much pain relief and within a few d...</td>\n",
              "    </tr>\n",
              "    <tr>\n",
              "      <th>...</th>\n",
              "      <td>...</td>\n",
              "      <td>...</td>\n",
              "      <td>...</td>\n",
              "    </tr>\n",
              "    <tr>\n",
              "      <th>525</th>\n",
              "      <td>ARTHROTEC.30.txt 9</td>\n",
              "      <td>When I came across this website, I was appalle...</td>\n",
              "      <td>When I came across this website I was appalled...</td>\n",
              "    </tr>\n",
              "    <tr>\n",
              "      <th>526</th>\n",
              "      <td>ARTHROTEC.30.txt 10</td>\n",
              "      <td>I firmly believe this is the answer to my blee...</td>\n",
              "      <td>I firmly believe this is the answer to my blee...</td>\n",
              "    </tr>\n",
              "    <tr>\n",
              "      <th>527</th>\n",
              "      <td>ARTHROTEC.30.txt 11</td>\n",
              "      <td>Although this drug has helped with the pain, i...</td>\n",
              "      <td>Although this drug has helped with the pain it...</td>\n",
              "    </tr>\n",
              "    <tr>\n",
              "      <th>529</th>\n",
              "      <td>ARTHROTEC.30.txt 13</td>\n",
              "      <td>I truly hope that there are no long term effec...</td>\n",
              "      <td>I truly hope that there are no long term effec...</td>\n",
              "    </tr>\n",
              "    <tr>\n",
              "      <th>531</th>\n",
              "      <td>ARTHROTEC.30.txt 15</td>\n",
              "      <td>I do not look forward to the extra pains I wil...</td>\n",
              "      <td>I do not look forward to the extra pains I wil...</td>\n",
              "    </tr>\n",
              "  </tbody>\n",
              "</table>\n",
              "<p>301 rows × 3 columns</p>\n",
              "</div>"
            ],
            "text/plain": [
              "             sentence id  ...                                       new sentence\n",
              "1     ARTHROTEC.10.txt 1  ...  Brilliant I have a new lease of life i walk up...\n",
              "3     ARTHROTEC.91.txt 1  ...  I am only taking 75 mg a day and it is wonderf...\n",
              "4     ARTHROTEC.54.txt 0  ...     I have not experienced any of the side effects\n",
              "5     ARTHROTEC.54.txt 1  ...             Arthrotec helps me get through the day\n",
              "6     ARTHROTEC.21.txt 0  ...  Didnt have much pain relief and within a few d...\n",
              "..                   ...  ...                                                ...\n",
              "525   ARTHROTEC.30.txt 9  ...  When I came across this website I was appalled...\n",
              "526  ARTHROTEC.30.txt 10  ...  I firmly believe this is the answer to my blee...\n",
              "527  ARTHROTEC.30.txt 11  ...  Although this drug has helped with the pain it...\n",
              "529  ARTHROTEC.30.txt 13  ...  I truly hope that there are no long term effec...\n",
              "531  ARTHROTEC.30.txt 15  ...  I do not look forward to the extra pains I wil...\n",
              "\n",
              "[301 rows x 3 columns]"
            ]
          },
          "metadata": {
            "tags": []
          },
          "execution_count": 110
        }
      ]
    },
    {
      "cell_type": "code",
      "metadata": {
        "id": "ihtn8uBuNEYK",
        "colab_type": "code",
        "colab": {
          "base_uri": "https://localhost:8080/",
          "height": 34
        },
        "outputId": "6325116d-ae3d-48ef-c0c7-06be4b563ae5"
      },
      "source": [
        "bigdf[\"new sentence\"].str.count(sub).sum()"
      ],
      "execution_count": 111,
      "outputs": [
        {
          "output_type": "execute_result",
          "data": {
            "text/plain": [
              "492"
            ]
          },
          "metadata": {
            "tags": []
          },
          "execution_count": 111
        }
      ]
    },
    {
      "cell_type": "markdown",
      "metadata": {
        "colab_type": "text",
        "id": "-12cqmJEpZOh"
      },
      "source": [
        "(4) Install packages nltk, numpy, scipy, pandas, and sklearn on Google Colab. Write a program to test whether they are installed successfully. (3 points for extra)"
      ]
    },
    {
      "cell_type": "code",
      "metadata": {
        "id": "kh6MHaBd1UBd",
        "colab_type": "code",
        "colab": {
          "base_uri": "https://localhost:8080/",
          "height": 34
        },
        "outputId": "6fb5fe83-1144-487e-a8ef-1d539c7b4b2b"
      },
      "source": [
        "pip install numpy\n"
      ],
      "execution_count": null,
      "outputs": [
        {
          "output_type": "stream",
          "text": [
            "Requirement already satisfied: numpy in /usr/local/lib/python3.6/dist-packages (1.18.5)\n"
          ],
          "name": "stdout"
        }
      ]
    },
    {
      "cell_type": "code",
      "metadata": {
        "id": "32jKkZSa1v_Q",
        "colab_type": "code",
        "colab": {
          "base_uri": "https://localhost:8080/",
          "height": 50
        },
        "outputId": "5fd319c5-9bd6-423a-8d24-3153f436c596"
      },
      "source": [
        "pip install nltk\n"
      ],
      "execution_count": null,
      "outputs": [
        {
          "output_type": "stream",
          "text": [
            "Requirement already satisfied: nltk in /usr/local/lib/python3.6/dist-packages (3.2.5)\n",
            "Requirement already satisfied: six in /usr/local/lib/python3.6/dist-packages (from nltk) (1.15.0)\n"
          ],
          "name": "stdout"
        }
      ]
    },
    {
      "cell_type": "code",
      "metadata": {
        "id": "vC6O_7QF193R",
        "colab_type": "code",
        "colab": {
          "base_uri": "https://localhost:8080/",
          "height": 50
        },
        "outputId": "60bf7d3d-0a43-4783-f349-c3b071822390"
      },
      "source": [
        "pip install scipy\n"
      ],
      "execution_count": null,
      "outputs": [
        {
          "output_type": "stream",
          "text": [
            "Requirement already satisfied: scipy in /usr/local/lib/python3.6/dist-packages (1.4.1)\n",
            "Requirement already satisfied: numpy>=1.13.3 in /usr/local/lib/python3.6/dist-packages (from scipy) (1.18.5)\n"
          ],
          "name": "stdout"
        }
      ]
    },
    {
      "cell_type": "code",
      "metadata": {
        "id": "sgocGoaR1_8A",
        "colab_type": "code",
        "colab": {
          "base_uri": "https://localhost:8080/",
          "height": 101
        },
        "outputId": "7e3bc6ce-4c0b-40b7-c131-3597d515f2b2"
      },
      "source": [
        "pip install pandas\n"
      ],
      "execution_count": null,
      "outputs": [
        {
          "output_type": "stream",
          "text": [
            "Requirement already satisfied: pandas in /usr/local/lib/python3.6/dist-packages (1.0.5)\n",
            "Requirement already satisfied: pytz>=2017.2 in /usr/local/lib/python3.6/dist-packages (from pandas) (2018.9)\n",
            "Requirement already satisfied: python-dateutil>=2.6.1 in /usr/local/lib/python3.6/dist-packages (from pandas) (2.8.1)\n",
            "Requirement already satisfied: numpy>=1.13.3 in /usr/local/lib/python3.6/dist-packages (from pandas) (1.18.5)\n",
            "Requirement already satisfied: six>=1.5 in /usr/local/lib/python3.6/dist-packages (from python-dateutil>=2.6.1->pandas) (1.15.0)\n"
          ],
          "name": "stdout"
        }
      ]
    },
    {
      "cell_type": "code",
      "metadata": {
        "id": "I9QhxNPT2BbZ",
        "colab_type": "code",
        "colab": {
          "base_uri": "https://localhost:8080/",
          "height": 101
        },
        "outputId": "8a440907-a807-4599-f2b2-7c59b8c57ace"
      },
      "source": [
        "pip install sklearn"
      ],
      "execution_count": null,
      "outputs": [
        {
          "output_type": "stream",
          "text": [
            "Requirement already satisfied: sklearn in /usr/local/lib/python3.6/dist-packages (0.0)\n",
            "Requirement already satisfied: scikit-learn in /usr/local/lib/python3.6/dist-packages (from sklearn) (0.22.2.post1)\n",
            "Requirement already satisfied: joblib>=0.11 in /usr/local/lib/python3.6/dist-packages (from scikit-learn->sklearn) (0.16.0)\n",
            "Requirement already satisfied: numpy>=1.11.0 in /usr/local/lib/python3.6/dist-packages (from scikit-learn->sklearn) (1.18.5)\n",
            "Requirement already satisfied: scipy>=0.17.0 in /usr/local/lib/python3.6/dist-packages (from scikit-learn->sklearn) (1.4.1)\n"
          ],
          "name": "stdout"
        }
      ]
    },
    {
      "cell_type": "code",
      "metadata": {
        "id": "VHXIdW7B2Cfl",
        "colab_type": "code",
        "colab": {
          "base_uri": "https://localhost:8080/",
          "height": 101
        },
        "outputId": "cb3c369f-f543-4bf1-925c-5eec87870b80"
      },
      "source": [
        "try:\n",
        "    import numpy\n",
        "    print(\"Package 'numpy' is installed Sucessfully\")\n",
        "except ModuleNotFoundError:\n",
        "    print(\"Package 'numpy' is not installed\")\n",
        "try:\n",
        "    import numpy\n",
        "    print(\"Package 'scipy' is installed Sucessfully\")\n",
        "except ModuleNotFoundError:\n",
        "    print(\"Package 'scipy' is not installed\")\n",
        "try:\n",
        "    import numpy\n",
        "    print(\"Package 'pandas' is installed Sucessfully\")\n",
        "except ModuleNotFoundError:\n",
        "    print(\"Package 'pandas' is not installed\")\n",
        "try:\n",
        "    import numpy\n",
        "    print(\"Package 'sklearn' is installed Sucessfully\")\n",
        "except ModuleNotFoundError:\n",
        "    print(\"Package 'sklearn' is not installed\")\n",
        "try:\n",
        "    import numpy\n",
        "    print(\"Package 'nltk' is installed Sucessfully\")\n",
        "except ModuleNotFoundError:\n",
        "    print(\"Package 'nltk' is not installed\")"
      ],
      "execution_count": 98,
      "outputs": [
        {
          "output_type": "stream",
          "text": [
            "Package 'numpy' is installed Sucessfully\n",
            "Package 'scipy' is installed Sucessfully\n",
            "Package 'pandas' is installed Sucessfully\n",
            "Package 'sklearn' is installed Sucessfully\n",
            "Package 'nltk' is installed Sucessfully\n"
          ],
          "name": "stdout"
        }
      ]
    },
    {
      "cell_type": "code",
      "metadata": {
        "id": "B67elQRw2iDQ",
        "colab_type": "code",
        "colab": {}
      },
      "source": [
        ""
      ],
      "execution_count": null,
      "outputs": []
    }
  ]
}